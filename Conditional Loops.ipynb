{
 "cells": [
  {
   "cell_type": "markdown",
   "id": "53d2e739",
   "metadata": {},
   "source": [
    "Question 1: Use a while loop to create a program that keeps asking the user for their name until they type \"stop\"."
   ]
  },
  {
   "cell_type": "code",
   "execution_count": 8,
   "id": "7dc8c0c2",
   "metadata": {},
   "outputs": [
    {
     "name": "stdout",
     "output_type": "stream",
     "text": [
      "Write your name:hafsa\n",
      "Write your name:hafsa\n",
      "Write your name:hafsa\n",
      "Write your name:hafsa\n",
      "Write your name:hafsa\n",
      "Write your name:stop\n",
      "you have successfully stopped the program.\n"
     ]
    }
   ],
   "source": [
    "user_input= input(\"Write your name:\")\n",
    "\n",
    "while user_input != \"stop\":\n",
    "    user_input= input(\"Write your name:\")\n",
    "    \n",
    "#removed delebrately"
   ]
  },
  {
   "cell_type": "markdown",
   "id": "19e333ac",
   "metadata": {},
   "source": [
    "Question 2: Write a script that combines while loops and conditionals to print numbers from 1 to 20, but skips numbers that are multiples of 3."
   ]
  },
  {
   "cell_type": "code",
   "execution_count": 5,
   "id": "fe9915ba",
   "metadata": {},
   "outputs": [
    {
     "name": "stdout",
     "output_type": "stream",
     "text": [
      "1\n",
      "2\n",
      "4\n",
      "5\n",
      "7\n",
      "8\n",
      "10\n",
      "11\n",
      "13\n",
      "14\n",
      "16\n",
      "17\n",
      "19\n",
      "20\n"
     ]
    }
   ],
   "source": [
    "numbers = range(1,21)\n",
    "\n",
    "for i in numbers:\n",
    "    while i %3 == 0:\n",
    "#         print(\"multiple found\")                   \n",
    "        \n",
    "        #removed delebrately"
   ]
  },
  {
   "cell_type": "markdown",
   "id": "3d4a3865",
   "metadata": {},
   "source": [
    "Question 3: Create a for loop that goes through numbers 1 to 50. If a number is a multiple of 10, use the break statement to exit the loop."
   ]
  },
  {
   "cell_type": "code",
   "execution_count": 32,
   "id": "d7b6734b",
   "metadata": {},
   "outputs": [
    {
     "name": "stdout",
     "output_type": "stream",
     "text": [
      "10\n"
     ]
    }
   ],
   "source": [
    "my_range = range(1,51)\n",
    "\n",
    "for i in my_range:\n",
    "    if i %10 == 0:\n",
    "        #removed delebrately"
   ]
  },
  {
   "cell_type": "markdown",
   "id": "45145575",
   "metadata": {},
   "source": [
    "Question 4: Consider the list: fruit = [\"apple\", \"banana\", \"cherry\", \"orange\", \"kiwi\", \"melon\", \"mango\"]. \n",
    "\n",
    "Use a loop to search the fruit “kiwi” from the list fruit. Break the loop once the fruit is found."
   ]
  },
  {
   "cell_type": "code",
   "execution_count": 33,
   "id": "042d63a4",
   "metadata": {},
   "outputs": [
    {
     "name": "stdout",
     "output_type": "stream",
     "text": [
      "cannot find kiwi on iteration: 1\n",
      "cannot find kiwi on iteration: 2\n",
      "cannot find kiwi on iteration: 3\n",
      "cannot find kiwi on iteration: 4\n",
      "kiwi is found on iteration: 5\n"
     ]
    }
   ],
   "source": [
    "fruits = [\"apple\" , \"banana\" , \"cherry\" , \"orange\" , \"kiwi\" , \"melon\" , \"mango\"]\n",
    "\n",
    "i = 0\n",
    "for fruit in fruits:\n",
    "    i += 1\n",
    "    if \"kiwi\" in fruit:\n",
    "        #removed delebrately"
   ]
  },
  {
   "cell_type": "markdown",
   "id": "781295ce",
   "metadata": {},
   "source": [
    "Question 6: Use a while loop to keep asking for a number until a negative number is entered. At the end, print the sum of all entered numbers."
   ]
  },
  {
   "cell_type": "code",
   "execution_count": 3,
   "id": "6246e4db",
   "metadata": {},
   "outputs": [
    {
     "name": "stdout",
     "output_type": "stream",
     "text": [
      "Enter a valid number: 2\n",
      "Enter a valid number: 9\n",
      "Enter a valid number: -5\n",
      "Brilliant! You did it!\n",
      "the sum of all the numbers you entered so far is 6\n"
     ]
    }
   ],
   "source": [
    "number = int(input(\"Enter a valid number: \"))\n",
    "\n",
    "i = 0\n",
    "while number >= 0:\n",
    "    i += number\n",
    "    number = int(input(\"Enter a valid number: \"))\n",
    "    continue  \n",
    "\n",
    "else:\n",
    "   #removed delebrately   "
   ]
  },
  {
   "cell_type": "markdown",
   "id": "b2dc7037",
   "metadata": {},
   "source": [
    "Question 7: Define a function called greet that takes a name as a parameter and prints a greeting using that name."
   ]
  },
  {
   "cell_type": "code",
   "execution_count": 8,
   "id": "dc133e33",
   "metadata": {},
   "outputs": [
    {
     "name": "stdout",
     "output_type": "stream",
     "text": [
      "Hello hafsa, how are you today?\n",
      "Hello me, how are you today?\n"
     ]
    }
   ],
   "source": [
    "def greet(name):\n",
    "    \n",
    "    print(f\"Hello {name}, how are you today?\")\n",
    "\n",
    "#removed delebrately"
   ]
  },
  {
   "cell_type": "markdown",
   "id": "3fa7b2bc",
   "metadata": {},
   "source": [
    "Question 8: Write a function called calculate_area that takes the length and width of a rectangle and returns its area."
   ]
  },
  {
   "cell_type": "code",
   "execution_count": 50,
   "id": "7895eece",
   "metadata": {},
   "outputs": [
    {
     "data": {
      "text/plain": [
       "45"
      ]
     },
     "execution_count": 50,
     "metadata": {},
     "output_type": "execute_result"
    }
   ],
   "source": [
    "def calculate_area(length , width):\n",
    "    \n",
    "    area = length*width\n",
    "    \n",
    " #removed delebrately"
   ]
  },
  {
   "cell_type": "markdown",
   "id": "b2059fc5",
   "metadata": {},
   "source": [
    "Question 9: Write a Python function to find the max of three numbers."
   ]
  },
  {
   "cell_type": "code",
   "execution_count": 52,
   "id": "aaec2b20",
   "metadata": {},
   "outputs": [
    {
     "name": "stdout",
     "output_type": "stream",
     "text": [
      "8\n",
      "10999\n"
     ]
    }
   ],
   "source": [
    "def MAX(num1,num2,num3):\n",
    "    \n",
    "    return(max(num1,num2,num3))\n",
    "\n",
    "print(MAX(2,5,8))\n",
    "#removed delebrately"
   ]
  },
  {
   "cell_type": "markdown",
   "id": "fcd0d369",
   "metadata": {},
   "source": [
    "removed delebrately"
   ]
  },
  {
   "cell_type": "code",
   "execution_count": 51,
   "id": "7fa55b85",
   "metadata": {},
   "outputs": [
    {
     "name": "stdout",
     "output_type": "stream",
     "text": [
      "the square is 4\n",
      " the sum of squares on 1th iteration is 4\n",
      "the square is 16\n",
      " the sum of squares on 2th iteration is 20\n",
      "the square is 36\n",
      " the sum of squares on 3th iteration is 56\n",
      "the square is 64\n",
      " the sum of squares on 4th iteration is 120\n",
      "the square is 81\n",
      " the sum of squares on 5th iteration is 201\n",
      "the square is 144\n",
      " the sum of squares on 6th iteration is 345\n"
     ]
    }
   ],
   "source": [
    "def lamb(num):\n",
    "    \n",
    "    perform = num*num\n",
    "    return(perform)\n",
    "\n",
    "\n",
    "list_num = [2,4,6,8,9,12]\n",
    "\n",
    "squares_sum = 0\n",
    "i = 0\n",
    "for num in list_num:\n",
    "    i += 1\n",
    "    lamb(num)\n",
    "    #removed delebrately"
   ]
  }
 ],
 "metadata": {
  "kernelspec": {
   "display_name": "Python 3 (ipykernel)",
   "language": "python",
   "name": "python3"
  },
  "language_info": {
   "codemirror_mode": {
    "name": "ipython",
    "version": 3
   },
   "file_extension": ".py",
   "mimetype": "text/x-python",
   "name": "python",
   "nbconvert_exporter": "python",
   "pygments_lexer": "ipython3",
   "version": "3.11.5"
  }
 },
 "nbformat": 4,
 "nbformat_minor": 5
}
