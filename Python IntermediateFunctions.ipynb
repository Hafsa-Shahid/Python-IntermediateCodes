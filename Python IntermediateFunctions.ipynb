{
 "cells": [
  {
   "cell_type": "markdown",
   "id": "2dd5ddb6",
   "metadata": {},
   "source": [
    "Question 1:"
   ]
  },
  {
   "cell_type": "code",
   "execution_count": 6,
   "id": "5cbb94c2",
   "metadata": {},
   "outputs": [
    {
     "name": "stdout",
     "output_type": "stream",
     "text": [
      "monday\n",
      "wednesday\n",
      "friday\n"
     ]
    }
   ],
   "source": [
    "days = {\"monday\":36 , \"tuesday\":24 , \"wednesday\":37 , \"thursday\":22 , \"friday\":28 , \"saturday\":22 , \"sunday\":25}\n",
    "\n",
    "for key in days:\n",
    "    #codes removed delebrately"
   ]
  },
  {
   "cell_type": "markdown",
   "id": "e1034402",
   "metadata": {},
   "source": [
    "Question 2: "
   ]
  },
  {
   "cell_type": "code",
   "execution_count": 2,
   "id": "6a3c2293",
   "metadata": {},
   "outputs": [
    {
     "name": "stdout",
     "output_type": "stream",
     "text": [
      "What is your age: 26\n",
      "Adult\n"
     ]
    }
   ],
   "source": [
    "age = int(input(\"What is your age: \"))\n",
    "\n",
    "if age < 13:\n",
    "    print(\"Child\")\n",
    "    \n",
    "    #codes removed delebrately"
   ]
  },
  {
   "cell_type": "markdown",
   "id": "9f1ada3c",
   "metadata": {},
   "source": [
    "Question 3:"
   ]
  },
  {
   "cell_type": "code",
   "execution_count": 3,
   "id": "e2bfb148",
   "metadata": {},
   "outputs": [
    {
     "name": "stdout",
     "output_type": "stream",
     "text": [
      "-20\n",
      "-17\n",
      "-14\n",
      "-11\n",
      "-8\n",
      "-5\n",
      "-2\n",
      "1\n",
      "4\n",
      "7\n",
      "10\n",
      "13\n",
      "16\n",
      "19\n",
      "22\n",
      "25\n",
      "28\n"
     ]
    }
   ],
   "source": [
    "#Part a:\n",
    "\n",
    "for i in range(-20, 29, 3):\n",
    "    print (i)"
   ]
  },
  {
   "cell_type": "code",
   "execution_count": 4,
   "id": "567d5cd9",
   "metadata": {},
   "outputs": [
    {
     "name": "stdout",
     "output_type": "stream",
     "text": [
      "110\n",
      "112\n",
      "114\n",
      "116\n",
      "118\n",
      "120\n",
      "122\n",
      "124\n",
      "126\n",
      "128\n"
     ]
    }
   ],
   "source": [
    "#Part b:\n",
    "\n",
    "for i in range (110 , 129 , 2):\n",
    "    print(i)"
   ]
  },
  {
   "cell_type": "code",
   "execution_count": 5,
   "id": "935ca8e6",
   "metadata": {},
   "outputs": [
    {
     "name": "stdout",
     "output_type": "stream",
     "text": [
      "10\n",
      "9\n",
      "8\n",
      "7\n",
      "6\n",
      "5\n",
      "4\n",
      "3\n",
      "2\n",
      "1\n"
     ]
    }
   ],
   "source": [
    "#Part c:\n",
    "\n",
    "for i in range(10,0,-1):\n",
    "    print (i)"
   ]
  },
  {
   "cell_type": "code",
   "execution_count": 6,
   "id": "2164a028",
   "metadata": {},
   "outputs": [
    {
     "name": "stdout",
     "output_type": "stream",
     "text": [
      "-20\n",
      "-23\n",
      "-26\n",
      "-29\n"
     ]
    }
   ],
   "source": [
    "#Part d:\n",
    "\n",
    "for i in range (-20,-30,-3):\n",
    "    print(i)"
   ]
  },
  {
   "cell_type": "markdown",
   "id": "0781c30f",
   "metadata": {},
   "source": [
    "Question 4:"
   ]
  },
  {
   "cell_type": "code",
   "execution_count": 25,
   "id": "e02bb86f",
   "metadata": {},
   "outputs": [
    {
     "name": "stdout",
     "output_type": "stream",
     "text": [
      "{'Mathematics': [78, 'B'], 'Programming': [82, 'B+'], 'Biology': [65, 'B'], 'Physics': [80, 'B+'], 'Chemistry': [50, 'C']}\n",
      "355\n",
      "71.0\n"
     ]
    }
   ],
   "source": [
    "student = {\"Mathematics\" : 78 , \"Programming\" : 82 , \"Biology\" : 65 , \"Physics\" : 80 , \"Chemistry\" : 50 }\n",
    "\n",
    "grades = {\"A\" : range(90,101) , \"B+\" : range(80,90) , \"B\" : range(60,80) , \"C\" : range(40,60) , \"F\" : range(0,40)}\n",
    "\n",
    "#assigning grades to scores:\n",
    "\n",
    "for subject in student:\n",
    "    \n",
    "    for key in grades:               \n",
    "        \n",
    "        if student[subject] in grades[key]:\n",
    "            student[subject] = [student[subject] , key]\n",
    "            break\n",
    "            \n",
    "\n",
    "print(student)             \n",
    "\n",
    "\n",
    "\n",
    "student = {\"Mathematics\" : 78 , \"Programming\" : 82 , \"Biology\" : 65 , \"Physics\" : 80 , \"Chemistry\" : 50 }\n",
    "\n",
    "total_score = 0\n",
    "\n",
    "        #code removed delebrately\n",
    "    "
   ]
  },
  {
   "cell_type": "markdown",
   "id": "85b0c607",
   "metadata": {},
   "source": [
    "Question 5:"
   ]
  },
  {
   "cell_type": "code",
   "execution_count": 26,
   "id": "81fd0d06",
   "metadata": {},
   "outputs": [
    {
     "name": "stdout",
     "output_type": "stream",
     "text": [
      "650\n"
     ]
    }
   ],
   "source": [
    "x = 0\n",
    "\n",
    "for i in range(2,51,2):\n",
    "    x += i\n",
    "print(x)\n"
   ]
  }
 ],
 "metadata": {
  "kernelspec": {
   "display_name": "Python 3 (ipykernel)",
   "language": "python",
   "name": "python3"
  },
  "language_info": {
   "codemirror_mode": {
    "name": "ipython",
    "version": 3
   },
   "file_extension": ".py",
   "mimetype": "text/x-python",
   "name": "python",
   "nbconvert_exporter": "python",
   "pygments_lexer": "ipython3",
   "version": "3.11.5"
  }
 },
 "nbformat": 4,
 "nbformat_minor": 5
}
