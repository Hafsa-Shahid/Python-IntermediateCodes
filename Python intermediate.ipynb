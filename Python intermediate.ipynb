{
 "cells": [
  {
   "cell_type": "markdown",
   "id": "d29df119",
   "metadata": {},
   "source": [
    "Q1) Create a variable called num and give it a value of 100. Increment its value by 10. Then divide it by 3. Print out final num."
   ]
  },
  {
   "cell_type": "code",
   "execution_count": 3,
   "id": "c1ef6cd8",
   "metadata": {},
   "outputs": [
    {
     "name": "stdout",
     "output_type": "stream",
     "text": [
      "36.666666666666664\n"
     ]
    }
   ],
   "source": [
    "num = 100\n",
    "num += 10\n",
    "num /= 3\n",
    "\n",
    "print(num)"
   ]
  },
  {
   "cell_type": "markdown",
   "id": "7be7cca8",
   "metadata": {},
   "source": [
    "Q2) Create a string called my_str and give it the value \"Python Basics\". \n",
    "\n",
    "1) Create another variable and store the first two letters and the last two letters of my_str in it. Print it.\n",
    "\n",
    "2) Create another variable and store letters 3 to 8 (both inclusive) of my_str in it. Print it.  \n",
    "\n",
    "3) removed delebrately\n",
    "\n",
    "4) Print my_str from the first letter up till the 9 (not inclusive) in steps of 2\n",
    "\n",
    "5) removed delebrately"
   ]
  },
  {
   "cell_type": "code",
   "execution_count": 55,
   "id": "1c3afe9f",
   "metadata": {},
   "outputs": [
    {
     "name": "stdout",
     "output_type": "stream",
     "text": [
      "13\n",
      "Pycs\n",
      "thon Ba\n",
      "scisaB nohtyP\n",
      "Pto a\n",
      "csBnhy\n"
     ]
    }
   ],
   "source": [
    "my_str = \"Python Basics\"\n",
    "print(len(my_str))\n",
    "\n",
    "Q1 = my_str[0:2] + my_str[11:13]\n",
    "print(Q1)\n",
    "\n",
    "#removed delebrately\n",
    "\n",
    "#removed delebrately\n",
    "\n",
    "Q4 = print(my_str[:9:2])\n",
    "\n",
    "# removed delebrately"
   ]
  },
  {
   "cell_type": "code",
   "execution_count": null,
   "id": "3d31a6f6-3105-4496-b1e6-d39c0a82f652",
   "metadata": {},
   "outputs": [],
   "source": [
    "#removed delebrately"
   ]
  },
  {
   "cell_type": "code",
   "execution_count": 60,
   "id": "51866bb6",
   "metadata": {},
   "outputs": [
    {
     "name": "stdout",
     "output_type": "stream",
     "text": [
      "reading\n"
     ]
    }
   ],
   "source": [
    "word = \"read\"\n",
    "\n",
    "verb = word + \"ing\"\n",
    "print(verb)"
   ]
  },
  {
   "cell_type": "markdown",
   "id": "7a04aa4f",
   "metadata": {},
   "source": [
    "Q4) For the following string:\n",
    "\n",
    "1) Find out the index of the word \"learn\".\n",
    "\n",
    "2) Create a new string where you replace the word Python with the word Javascript. Print out the new string."
   ]
  },
  {
   "cell_type": "code",
   "execution_count": 74,
   "id": "bfafd8b3",
   "metadata": {},
   "outputs": [
    {
     "name": "stdout",
     "output_type": "stream",
     "text": [
      "16\n",
      "I am excited to learn Javascript\n"
     ]
    }
   ],
   "source": [
    "sentence = \"I am excited to learn Python\"\n",
    "\n",
    "print(sentence.index(\"learn\"))           \n",
    "\n",
    "removed delebrately"
   ]
  },
  {
   "cell_type": "markdown",
   "id": "dbcab0eb",
   "metadata": {},
   "source": [
    "Q5) In the following list, using indexing:\n",
    "\n",
    "1)Print out the value of the letter f\n",
    "\n",
    "2)Print out the value of the letter o\n",
    "\n",
    "3)Print out the value of the letter l"
   ]
  },
  {
   "cell_type": "code",
   "execution_count": 4,
   "id": "f8d3034c",
   "metadata": {},
   "outputs": [
    {
     "name": "stdout",
     "output_type": "stream",
     "text": [
      "f\n",
      "o\n",
      "l\n",
      "l\n"
     ]
    }
   ],
   "source": [
    "#letters = removed delebrately\n",
    "\n",
    "print(letters[3][2])\n",
    "\n",
    "print(letters[-1])\n",
    "\n",
    "print(letters[6][2][1])\n",
    "\n",
    "print(letters[-3][-2][-1])   #or this is also valid for Q3:"
   ]
  },
  {
   "cell_type": "markdown",
   "id": "85d4b257",
   "metadata": {},
   "source": [
    "Q6) Create a list called fruits with mango, apple and banana in it. Then to that list:\n",
    "\n",
    "1) Add papaya, pineapple, grapefruit, and lychee using a single command. Print out fruits at the end.\n",
    "\n",
    "2) Then, add apricot to the list using concatenation instead of a function. Print out the fruits again after this. "
   ]
  },
  {
   "cell_type": "code",
   "execution_count": 18,
   "id": "a8366e85",
   "metadata": {},
   "outputs": [
    {
     "name": "stdout",
     "output_type": "stream",
     "text": [
      "['mango', 'apple', 'banana', 'papaya', 'pineapple', 'grapefruit', 'lychee']\n",
      "['mango', 'apple', 'banana', 'papaya', 'pineapple', 'grapefruit', 'lychee', 'apricot']\n"
     ]
    }
   ],
   "source": [
    "fruits = [\"mango\" , \"apple\" , \"banana\"]\n",
    "\n",
    "#removed delebrately\n",
    "\n",
    "Q2_fruits = fruits + [\"apricot\"]\n",
    "print (Q2_fruits)"
   ]
  },
  {
   "cell_type": "markdown",
   "id": "01741fe1",
   "metadata": {},
   "source": [
    "Q7) Create a dictionary called wickets. \n",
    "\n",
    "1) https://www.espncricinfo.com/records/team/bowling-most-wickets-career/pakistan-7/test-matches-1\n",
    "from this webpage, pick the top 5 bowlers and store their names and their wkts in the dictionary. \n",
    "\n",
    "2) Increment the wickets of any one name by 10 in the dictionary. Print updated dictionary\n",
    "\n",
    "3) Add a sixth bowler and their wkts to the dictionary. Print updated dictionary. \n",
    "\n"
   ]
  },
  {
   "cell_type": "code",
   "execution_count": 29,
   "id": "7f0ddf98",
   "metadata": {},
   "outputs": [
    {
     "name": "stdout",
     "output_type": "stream",
     "text": [
      "{'Wasim Akram': 424, 'Waqar Younus': 373, 'Imran Khan': 362, 'Danish Kaneria': 261, 'Yasir Shah': 244}\n",
      "{'Wasim Akram': 424, 'Waqar Younus': 373, 'Imran Khan': 362, 'Danish Kaneria': 261, 'Yasir Shah': 244, 'Abdul Qadir': 236}\n"
     ]
    }
   ],
   "source": [
    "wickets = {\"Wasim Akram\" : 414 , \"Waqar Younus\" : 373 , \"Imran Khan\" : 362 , \"Danish Kaneria\" : 261 , \"Yasir Shah\" : 244}\n",
    "\n",
    "wickets[\"Wasim Akram\"] += 10\n",
    "print (wickets)\n",
    "\n",
    "wickets[\"Abdul Qadir\"] = 236\n",
    "print(wickets)\n"
   ]
  },
  {
   "cell_type": "code",
   "execution_count": null,
   "id": "51b39b6d",
   "metadata": {},
   "outputs": [],
   "source": []
  }
 ],
 "metadata": {
  "kernelspec": {
   "display_name": "Python 3 (ipykernel)",
   "language": "python",
   "name": "python3"
  },
  "language_info": {
   "codemirror_mode": {
    "name": "ipython",
    "version": 3
   },
   "file_extension": ".py",
   "mimetype": "text/x-python",
   "name": "python",
   "nbconvert_exporter": "python",
   "pygments_lexer": "ipython3",
   "version": "3.11.5"
  }
 },
 "nbformat": 4,
 "nbformat_minor": 5
}
